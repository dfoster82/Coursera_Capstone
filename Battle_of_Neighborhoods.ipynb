{
 "cells": [
  {
   "cell_type": "markdown",
   "metadata": {},
   "source": [
    "# Introduction"
   ]
  },
  {
   "cell_type": "markdown",
   "metadata": {},
   "source": [
    "The Rocket (The Rocket Gifts & Candy) is a popular novelty store that currently has two locations in Michigan: Ypsilanti and Ferndale. The store has become so popular that the owners want to open up another venue in a new location within Southeast Michigan. The store seems to be most popular with customers in their early twenties to mid-thirties and sells toys, candy, stationary, stickers, puzzles, and other novelty items.\n",
    "\n",
    "Based on this information, the owners have asked for a recommendation on where to open a new location. This recommendation will be presented to the owners and members of the management team in a formal company meeting."
   ]
  },
  {
   "cell_type": "markdown",
   "metadata": {},
   "source": [
    "# Data"
   ]
  },
  {
   "cell_type": "markdown",
   "metadata": {},
   "source": [
    "To explore and analyze the relevant data on which to base this recommendation, various sources were used from the Michigan Department of Technology, Management & Budget; Foursquare; and the United States Census Bureau. Population data by city and county were analyzed to determine the most populous regions of the state, and age data were analyzed to determine where most young people in the targeted age range reside. Custom tables from the United States Census Bureau were designed and downloaded from the agency’s website. The data was then reviewed and compiled prior to analysis.\n",
    "\n",
    "Various endpoints from the Foursquare API were also used to analyze the data for venues in the metro Detroit area, including Venue Search, Get Venue Categories, Get Similar Venues, and Get Trending Venues. Multiple venues were then compared and contrasted to help determine where the store’s owners should consider opening up their new venue."
   ]
  },
  {
   "cell_type": "code",
   "execution_count": null,
   "metadata": {},
   "outputs": [],
   "source": []
  }
 ],
 "metadata": {
  "kernelspec": {
   "display_name": "Python",
   "language": "python",
   "name": "conda-env-python-py"
  },
  "language_info": {
   "codemirror_mode": {
    "name": "ipython",
    "version": 3
   },
   "file_extension": ".py",
   "mimetype": "text/x-python",
   "name": "python",
   "nbconvert_exporter": "python",
   "pygments_lexer": "ipython3",
   "version": "3.6.10"
  }
 },
 "nbformat": 4,
 "nbformat_minor": 4
}
